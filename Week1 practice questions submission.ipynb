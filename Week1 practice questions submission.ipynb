{
 "cells": [
  {
   "cell_type": "markdown",
   "id": "d52956bd",
   "metadata": {},
   "source": [
    "1. Display Fibonacci Series upto 10 terms\n",
    "2. Display numbers at the odd indices of a list\n",
    "3. Print a list in reverse order\n",
    "4. Your task is to count the number of different words in this text\n",
    "\t\n",
    "\tstring = \"\"\"\n",
    "\tChatGPT has created this text to provide tips on creating interesting paragraphs. \n",
    "\tFirst, start with a clear topic sentence that introduces the main idea. \n",
    "\tThen, support the topic sentence with specific details, examples, and evidence.\n",
    "\tVary the sentence length and structure to keep the reader engaged.\n",
    "\tFinally, end with a strong concluding sentence that summarizes the main points.\n",
    "\tRemember, practice makes perfect!\n",
    "\t\"\"\"\n",
    "\n",
    "5. Write a function that takes a word as an argument and returns the number of vowels in the word\n",
    "6. Iterate through the following list of animals and print each one in all caps.\n",
    "\n",
    "  animals=['tiger', 'elephant', 'monkey', 'zebra', 'panther']\n",
    "\n",
    "7. Iterate from 1 to 15, printing whether the number is odd or even\n",
    "8. Take two integers as input from user and return the sum"
   ]
  },
  {
   "cell_type": "code",
   "execution_count": 9,
   "id": "4cb6d519",
   "metadata": {},
   "outputs": [
    {
     "name": "stdout",
     "output_type": "stream",
     "text": [
      "the fibbonacchi number 1 is 0\n",
      "the fibbonacci number 2 is 1\n",
      "the fibbonacci number 3 is 2\n",
      "the fibbonacci number 4 is 3\n",
      "the fibbonacci number 5 is 5\n",
      "the fibbonacci number 6 is 8\n",
      "the fibbonacci number 7 is 13\n",
      "the fibbonacci number 8 is 21\n",
      "the fibbonacci number 9 is 34\n",
      "the fibbonacci number 10 is 55\n",
      "the fibbonacci number 11 is 89\n"
     ]
    }
   ],
   "source": [
    "#1 Display Fibonacci Series upto 10 terms\n",
    "\n",
    "first_number = 0\n",
    "second_number = 1  \n",
    "\n",
    "i = 0\n",
    "\n",
    "while i <= 10:\n",
    "    if i <= 0:\n",
    "        print('the fibbonacchi number 1 is',first_number)\n",
    "        i = i+1\n",
    "    else:\n",
    "        fibbonacci_number = first_number + second_number\n",
    "        print('the fibbonacci number',i+1,\"is\",fibbonacci_number)\n",
    "        \n",
    "        first_number = second_number\n",
    "        second_number = fibbonacci_number\n",
    "        i = i+1"
   ]
  },
  {
   "cell_type": "code",
   "execution_count": 1,
   "id": "c8dce743",
   "metadata": {},
   "outputs": [
    {
     "name": "stdout",
     "output_type": "stream",
     "text": [
      "the number at odd indice 1 is 1\n",
      "the number at odd indice 3 is 3\n",
      "the number at odd indice 5 is 5\n",
      "the number at odd indice 7 is 7\n",
      "the number at odd indice 9 is 9\n"
     ]
    }
   ],
   "source": [
    "#2.Display numbers at the odd indices of a list\n",
    "List1 = [0,1,2,3,4,5,6,7,8,9,10]\n",
    "\n",
    "for i in List1:\n",
    "    #odd indices when divided by 2 the remainder will not be equal to zero.\n",
    "        if i%2 != 0:\n",
    "            print(\"the number at odd indice\",i,\"is\",i)"
   ]
  },
  {
   "cell_type": "code",
   "execution_count": 2,
   "id": "8a32cd0b",
   "metadata": {},
   "outputs": [
    {
     "name": "stdout",
     "output_type": "stream",
     "text": [
      "[9, 8, 7, 6, 5, 4, 3, 2, 1]\n"
     ]
    }
   ],
   "source": [
    "#3.Print a list in reverse order\n",
    "Numbers = [1,2,3,4,5,6,7,8,9]\n",
    "\n",
    "reverse_list = Numbers[-1:-10:-1]\n",
    "\n",
    "print(reverse_list)"
   ]
  },
  {
   "cell_type": "code",
   "execution_count": 3,
   "id": "7bc88738",
   "metadata": {},
   "outputs": [
    {
     "name": "stdout",
     "output_type": "stream",
     "text": [
      "number of words in the string: 62\n",
      "number of different words: 47\n"
     ]
    }
   ],
   "source": [
    "#4Your task is to count the number of different words in this text\n",
    "\n",
    "#string = \"\"\" ChatGPT has created this text to provide tips on creating interesting paragraphs. First, start with a clear topic sentence that introduces the main idea. Then, support the topic sentence with specific details, examples, and evidence. Vary the sentence length and structure to keep the reader engaged. Finally, end with a strong concluding sentence that summarizes the main points. Remember, practice makes perfect! \"\"\"\n",
    "string = \"ChatGPT has created this text to provide tips on creating interesting paragraphs. First, start with a clear topic sentence that introduces the main idea. Then, support the topic sentence with specific details, examples, and evidence. Vary the sentence length and structure to keep the reader engaged. Finally, end with a strong concluding sentence that summarizes the main points. Remember, practice makes perfect!\"\n",
    "string_list = string.split(\" \")\n",
    "\n",
    "count = 0\n",
    "\n",
    "for i in string_list:\n",
    "    count = count + 1\n",
    "print(\"number of words in the string:\",count)\n",
    "\n",
    "different_words_count = 0\n",
    "\n",
    "for x in range(62):\n",
    "    temp = string_list[x]\n",
    "    repeat = 0\n",
    "    \n",
    "    #iterating over the previous elements in the list to check whether there is any repeated element\n",
    "    for z in range(x):\n",
    "        if temp == string_list[z]:\n",
    "            repeat = 1\n",
    "    if repeat == 1:\n",
    "        different_words_count = different_words_count\n",
    "    else:\n",
    "        different_words_count = different_words_count + 1\n",
    "print(\"number of different words:\",different_words_count)   "
   ]
  },
  {
   "cell_type": "code",
   "execution_count": 4,
   "id": "5b398bc2",
   "metadata": {},
   "outputs": [],
   "source": [
    "#5Write a function that takes a word as an argument and returns the number of vowels in the word\n",
    "def vowel_counter(a):\n",
    "    vowel = 0\n",
    "    word_list = list(a)\n",
    "    for letter in word_list:\n",
    "        if letter.lower() == \"a\":\n",
    "            vowel = vowel+1\n",
    "        elif letter.lower() == \"e\":\n",
    "            vowel = vowel+1\n",
    "        elif letter.lower() == \"i\":\n",
    "            vowel = vowel+1\n",
    "        elif letter.lower() == \"o\":\n",
    "            vowel = vowel+1     \n",
    "        elif letter.lower() == \"u\":\n",
    "            vowel = vowel+1\n",
    "    return(vowel)"
   ]
  },
  {
   "cell_type": "code",
   "execution_count": 5,
   "id": "43009220",
   "metadata": {},
   "outputs": [
    {
     "data": {
      "text/plain": [
       "2"
      ]
     },
     "execution_count": 5,
     "metadata": {},
     "output_type": "execute_result"
    }
   ],
   "source": [
    "vowel_counter(\"hello\")"
   ]
  },
  {
   "cell_type": "code",
   "execution_count": 6,
   "id": "7b2720e0",
   "metadata": {},
   "outputs": [
    {
     "name": "stdout",
     "output_type": "stream",
     "text": [
      "TIGER\n",
      "ELEPHANT\n",
      "MONKEY\n",
      "ZEBRA\n",
      "PANTHER\n"
     ]
    }
   ],
   "source": [
    "#6Iterate through the following list of animals and print each one in all caps.\n",
    "\n",
    "#animals=['tiger', 'elephant', 'monkey', 'zebra', 'panther']\n",
    "\n",
    "animals=['tiger', 'elephant', 'monkey', 'zebra', 'panther']\n",
    "\n",
    "for animal in animals:\n",
    "    print(animal.upper())"
   ]
  },
  {
   "cell_type": "code",
   "execution_count": 7,
   "id": "787c33fe",
   "metadata": {},
   "outputs": [
    {
     "name": "stdout",
     "output_type": "stream",
     "text": [
      "the number 1 is an odd integer\n",
      " the number 2 is an even integer\n",
      "the number 3 is an odd integer\n",
      " the number 4 is an even integer\n",
      "the number 5 is an odd integer\n",
      " the number 6 is an even integer\n",
      "the number 7 is an odd integer\n",
      " the number 8 is an even integer\n",
      "the number 9 is an odd integer\n",
      " the number 10 is an even integer\n",
      "the number 11 is an odd integer\n",
      " the number 12 is an even integer\n",
      "the number 13 is an odd integer\n",
      " the number 14 is an even integer\n",
      "the number 15 is an odd integer\n"
     ]
    }
   ],
   "source": [
    "#7.Iterate from 1 to 15, printing whether the number is odd or even\n",
    "\n",
    "for i in range(1,16):\n",
    "    if i%2 == 0:\n",
    "        print (\" the number\",i,\"is an even integer\")\n",
    "    else:\n",
    "        print(\"the number\",i,\"is an odd integer\")"
   ]
  },
  {
   "cell_type": "code",
   "execution_count": 8,
   "id": "b60adde8",
   "metadata": {},
   "outputs": [
    {
     "name": "stdout",
     "output_type": "stream",
     "text": [
      "please provide input for the fist integer:1\n",
      "please provide input for the second integer:2\n",
      "the sum of two integers is : 3\n"
     ]
    }
   ],
   "source": [
    "#8.Take two integers as input from user and return the sum\n",
    "\n",
    "a = input(\"please provide input for the fist integer:\")\n",
    "b = input(\"please provide input for the second integer:\")\n",
    "\n",
    "total = int(a) + int(b)\n",
    "\n",
    "print(\"the sum of two integers is :\",total)"
   ]
  }
 ],
 "metadata": {
  "kernelspec": {
   "display_name": "Python 3 (ipykernel)",
   "language": "python",
   "name": "python3"
  },
  "language_info": {
   "codemirror_mode": {
    "name": "ipython",
    "version": 3
   },
   "file_extension": ".py",
   "mimetype": "text/x-python",
   "name": "python",
   "nbconvert_exporter": "python",
   "pygments_lexer": "ipython3",
   "version": "3.9.7"
  }
 },
 "nbformat": 4,
 "nbformat_minor": 5
}
